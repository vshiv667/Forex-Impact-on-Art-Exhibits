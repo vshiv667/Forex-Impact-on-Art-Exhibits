{
 "cells": [
  {
   "cell_type": "markdown",
   "metadata": {},
   "source": [
    "# Kickstarter Analysis"
   ]
  },
  {
   "cell_type": "markdown",
   "metadata": {},
   "source": [
    "Data Analysis carried out for over 4000 art projects. Data collected include project state, country, USD static rate, category, spotlight and USD pledged among others. Objective is to determine the various factors affecting success of a project in terms on funding."
   ]
  },
  {
   "cell_type": "code",
   "execution_count": 1,
   "metadata": {},
   "outputs": [],
   "source": [
    "%matplotlib inline  \n",
    "#to ensure we get the plot in our notebook\n",
    "#import the libraries we will use for this analysis\n",
    "import numpy as np\n",
    "import matplotlib.pyplot as plt\n",
    "import seaborn as sns"
   ]
  },
  {
   "cell_type": "markdown",
   "metadata": {},
   "source": [
    "# 1.Load Amount Pleged in USD data from our kickstarter dataset"
   ]
  },
  {
   "cell_type": "code",
   "execution_count": 2,
   "metadata": {},
   "outputs": [],
   "source": [
    "#Load our dataset with required columns, delimiter and data type\n",
    "usd_pledged=np.loadtxt(\"C:/Users/vivek_000/Desktop/Python/HW4_kickstarter.csv\",delimiter=\",\",usecols=11,skiprows=1)"
   ]
  },
  {
   "cell_type": "markdown",
   "metadata": {},
   "source": [
    "# 2.Descriptive Statistics are calculated - count, minimum, maximum, mean, median, standard deviation"
   ]
  },
  {
   "cell_type": "code",
   "execution_count": 3,
   "metadata": {},
   "outputs": [
    {
     "name": "stdout",
     "output_type": "stream",
     "text": [
      "The total no of projects are 4184\n",
      "The min amount pledged is  = $0.00\n",
      "The max amount pledged is  = $111111.77\n",
      "The mean amount pledged is  = $1242.12\n",
      "The median amount pledged is  = $90.00\n",
      "The Standard Deviation of the amounts pledged is  = $5177.93\n",
      "The percentage of projects with atleast 2500$ USD pledged   = 10.59 %\n"
     ]
    }
   ],
   "source": [
    "countme=usd_pledged.shape[0] #get dimensions of array - no. of rows\n",
    "print(\"The total no of projects are \" + str(countme))\n",
    "usd_pledged_min=np.min(usd_pledged)\n",
    "print(\"The min amount pledged is  = \"+ \"$%.2f\" % (usd_pledged_min)) #numpys built-in functions are used here\n",
    "usd_pledged_max=np.max(usd_pledged)\n",
    "print(\"The max amount pledged is  = \"+ \"$%.2f\" % (usd_pledged_max))\n",
    "usd_pledged_mean=np.mean(usd_pledged)\n",
    "print(\"The mean amount pledged is  = \"+ \"$%.2f\" % (usd_pledged_mean))\n",
    "usd_pledged_median=np.median(usd_pledged)\n",
    "print(\"The median amount pledged is  = \"+ \"$%.2f\" % (usd_pledged_median))\n",
    "usd_pledged_sd=np.std(usd_pledged)\n",
    "print(\"The Standard Deviation of the amounts pledged is  = \"+ \"$%.2f\" % (usd_pledged_sd))\n",
    "usd_pledged_atleast=np.count_nonzero(usd_pledged>=2500) #usd pleged greater than 2500\n",
    "project_atleast=(usd_pledged_atleast/countme)*100\n",
    "print(\"The percentage of projects with atleast 2500$ USD pledged   = \"+ \"%.2f\" % (project_atleast) + \" %\") #print result"
   ]
  },
  {
   "cell_type": "markdown",
   "metadata": {},
   "source": [
    "# 3.Load Project Categories data from our kickstarter dataset"
   ]
  },
  {
   "cell_type": "code",
   "execution_count": 4,
   "metadata": {},
   "outputs": [],
   "source": [
    "#Load our dataset with required columns, delimiter and data type\n",
    "category=np.loadtxt(\"C:/Users/vivek_000/Desktop/Python/HW4_kickstarter.csv\",delimiter=\",\",dtype=str,usecols=12,skiprows=1)"
   ]
  },
  {
   "cell_type": "markdown",
   "metadata": {},
   "source": [
    "# 4.Visualizing the percentage of observations in each category"
   ]
  },
  {
   "cell_type": "code",
   "execution_count": 5,
   "metadata": {},
   "outputs": [
    {
     "name": "stdout",
     "output_type": "stream",
     "text": [
      "The Unique categories are: \n",
      "Ceramics\n",
      "Conceptual Art\n",
      "Digital Art\n",
      "Illustration\n",
      "Painting\n",
      "\n",
      "The frequencies of these categories are: \n",
      "204\n",
      "879\n",
      "1054\n",
      "461\n",
      "1586\n",
      "\n",
      "The proportion of observation of these categories are: \n",
      "4.88%\n",
      "21.01%\n",
      "25.19%\n",
      "11.02%\n",
      "37.91%\n"
     ]
    }
   ],
   "source": [
    "values, frequencies = np.unique(category, return_counts=True) #determine the unique categories and frequencies of each category\n",
    "print('The Unique categories are: ')\n",
    "for z in values:\n",
    "    print(z)\n",
    "print(\"\")\n",
    "print('The frequencies of these categories are: ')\n",
    "for d in frequencies:\n",
    "    print(d)\n",
    "print(\"\")\n",
    "proportion_category=(frequencies/len(category))*100 #calculating the proportion\n",
    "print('The proportion of observation of these categories are: ')\n",
    "for e in proportion_category:\n",
    "    print(\"%.2f\" %(e) + \"%\") #print result"
   ]
  },
  {
   "cell_type": "code",
   "execution_count": 6,
   "metadata": {},
   "outputs": [
    {
     "data": {
      "image/png": "[encoded data removed]",
      "text/plain": [
       "<Figure size 432x288 with 1 Axes>"
      ]
     },
     "metadata": {},
     "output_type": "display_data"
    }
   ],
   "source": [
    "title = f'Project frequencies of {len(values):,} Categories' #give a title\n",
    "sns.set_style('whitegrid')\n",
    "axes = sns.barplot(x=values, y=frequencies, palette='Blues_d',saturation=1) #set x and y axis for barplot\n",
    "axes.set_title(title)\n",
    "axes.set(xlabel='Category Type', ylabel='Frequency')  \n",
    "axes.set_ylim(top=max(frequencies) * 1.10)\n",
    "\n",
    "for bar, frequency in zip(axes.patches, frequencies):\n",
    "    text_x = bar.get_x() + bar.get_width() / 2.0  \n",
    "    text_y = bar.get_height() \n",
    "    text = f'{frequency:,}\\n{frequency / len(category):.3%}' #displaying frequency and percentage on bars\n",
    "    axes.text(text_x, text_y, text, \n",
    "              fontsize=11, ha='center', va='bottom')\n",
    "\n",
    "plt.show()"
   ]
  },
  {
   "cell_type": "markdown",
   "metadata": {},
   "source": [
    "# 5.Inferences\n",
    "Paintings are the most frequent category.Illustration combined with this accounts for half the percentage of projects.         \n",
    "Digital and Categorical Art are the second and third most popular type of projects.                                            \n",
    "Ceramics is the least popular category for an aspiring entrepreneur that requires funding."
   ]
  },
  {
   "cell_type": "markdown",
   "metadata": {},
   "source": [
    "# 6.Load categories and States data from our kickstarter dataset"
   ]
  },
  {
   "cell_type": "code",
   "execution_count": 7,
   "metadata": {},
   "outputs": [],
   "source": [
    "#Load our dataset with required columns, delimiter and data type\n",
    "mix=np.loadtxt(\"C:/Users/vivek_000/Desktop/Python/HW4_kickstarter.csv\",delimiter=\",\",dtype=str,usecols=(12,4),skiprows=1)"
   ]
  },
  {
   "cell_type": "markdown",
   "metadata": {},
   "source": [
    "# 7.Visualizing the percentage of observations in each category"
   ]
  },
  {
   "cell_type": "code",
   "execution_count": 8,
   "metadata": {},
   "outputs": [],
   "source": [
    "countlist=[0,0,0,0,0] #calculating the count of each successful project by category\n",
    "for i,j in mix:\n",
    "    if (j=='successful'):\n",
    "        if (i==values[0]):\n",
    "            countlist[0]+=1\n",
    "        if (i==values[1]):\n",
    "            countlist[1]+=1\n",
    "        if (i==values[2]):\n",
    "            countlist[2]+=1\n",
    "        if (i==values[3]):\n",
    "            countlist[3]+=1\n",
    "        if (i==values[4]):\n",
    "            countlist[4]+=1"
   ]
  },
  {
   "cell_type": "code",
   "execution_count": 9,
   "metadata": {},
   "outputs": [
    {
     "name": "stdout",
     "output_type": "stream",
     "text": [
      "The percentage of successful projects for each category are: \n",
      "41.18%\n",
      "36.63%\n",
      "27.13%\n",
      "0.00%\n",
      "0.00%\n"
     ]
    }
   ],
   "source": [
    "newlist=(countlist/frequencies) * 100  #calculating the proportion of success\n",
    "print('The percentage of successful projects for each category are: ')\n",
    "for t in newlist:\n",
    "    print(\"%.2f\" %(t) + \"%\") #print result"
   ]
  },
  {
   "cell_type": "code",
   "execution_count": 10,
   "metadata": {},
   "outputs": [
    {
     "data": {
      "image/png": "[encoded data removed]",
      "text/plain": [
       "<Figure size 432x288 with 1 Axes>"
      ]
     },
     "metadata": {},
     "output_type": "display_data"
    }
   ],
   "source": [
    "title = f'Success frequencies based on project type' #give a title\n",
    "sns.set_style('whitegrid')\n",
    "axes=sns.barplot(x=values, y=newlist, palette='Blues_d',saturation=1)  #set x and y axis for barplot\n",
    "axes.set_title(title)\n",
    "axes.set(xlabel='Category Type', ylabel= 'Success Rate')\n",
    "axes.set_ylim(top=max(newlist)*1.15)\n",
    "\n",
    "for frequency,bar,percentage in zip(countlist,axes.patches,newlist):\n",
    "    text_x=bar.get_x()+bar.get_width()/2.0\n",
    "    text_y=bar.get_height()\n",
    "    text=f\"{frequency:}\\n{percentage/100:.2%}\" #displaying frequency and percentage on bars\n",
    "    axes.text(text_x,text_y,text,\n",
    "              fontsize=12,ha='center',va='bottom')\n",
    "                 \n",
    "plt.show() #display our plot"
   ]
  },
  {
   "cell_type": "markdown",
   "metadata": {},
   "source": [
    "On average Ceramics was the most successful. Illustration and Painting were the least successful. These were infact not successful !.Their success rate is 0%. This is interesting as paintings were infact the most popular category as seen before."
   ]
  },
  {
   "cell_type": "markdown",
   "metadata": {},
   "source": [
    "# 8.Load staffpick, spotlight data from our kickstarter dataset"
   ]
  },
  {
   "cell_type": "code",
   "execution_count": 11,
   "metadata": {},
   "outputs": [],
   "source": [
    "#Load our dataset with required columns, delimiter and data type\n",
    "best=np.loadtxt(\"C:/Users/vivek_000/Desktop/Python/HW4_kickstarter.csv\",delimiter=\",\",dtype=str,usecols=(8,13),skiprows=1)"
   ]
  },
  {
   "cell_type": "markdown",
   "metadata": {},
   "source": [
    "# 9.Calcuating the total no. of staff pick and spotlight projects and the success rate of each project classification"
   ]
  },
  {
   "cell_type": "code",
   "execution_count": 12,
   "metadata": {},
   "outputs": [
    {
     "name": "stdout",
     "output_type": "stream",
     "text": [
      "The total no of staff pick projects are: 224\n"
     ]
    }
   ],
   "source": [
    "n=best[:,:1] #select staff pick column \n",
    "count_staff_pick=0\n",
    "for i in n:\n",
    "    if (i=='TRUE'): #calculate no. of staff pick projects\n",
    "        count_staff_pick+=1\n",
    "print(\"The total no of staff pick projects are: \" + str(count_staff_pick)) #print result"
   ]
  },
  {
   "cell_type": "code",
   "execution_count": 13,
   "metadata": {},
   "outputs": [
    {
     "name": "stdout",
     "output_type": "stream",
     "text": [
      "The total no of spotlight projects are: 692\n"
     ]
    }
   ],
   "source": [
    "m=best[:,1:2] #select spotlight column \n",
    "count_spotlight=0\n",
    "for i in m:\n",
    "    if (i=='TRUE'): #calculate no. of spotlight projects\n",
    "        count_spotlight+=1 \n",
    "print(\"The total no of spotlight projects are: \" + str(count_spotlight)) #print result"
   ]
  },
  {
   "cell_type": "code",
   "execution_count": 14,
   "metadata": {},
   "outputs": [
    {
     "name": "stdout",
     "output_type": "stream",
     "text": [
      "The percentage of staff pick projects that were successful are: 72.77 %\n"
     ]
    }
   ],
   "source": [
    "#Load our dataset with staff pick and success data\n",
    "staff=np.loadtxt(\"C:/Users/vivek_000/Desktop/Python/HW4_kickstarter.csv\",delimiter=\",\",dtype=str,usecols=(8,4),skiprows=1)\n",
    "count_staff_pick_success=0\n",
    "for i,j in staff:\n",
    "    if (j=='successful'): \n",
    "        if (i=='TRUE'):\n",
    "            count_staff_pick_success+=1\n",
    "staff_success_rate=(count_staff_pick_success/count_staff_pick)*100 #calculate staff pick success rate\n",
    "print(\"The percentage of staff pick projects that were successful are: \" + \"%.2f\" %(staff_success_rate) +\" %\") #print result"
   ]
  },
  {
   "cell_type": "code",
   "execution_count": 15,
   "metadata": {},
   "outputs": [
    {
     "name": "stdout",
     "output_type": "stream",
     "text": [
      "The percentage of spotlight projects that were successful are: 100.00 %\n"
     ]
    }
   ],
   "source": [
    "#Load our dataset with spotlight and success data\n",
    "spot=np.loadtxt(\"C:/Users/vivek_000/Desktop/Python/HW4_kickstarter.csv\",delimiter=\",\",dtype=str,usecols=(13,4),skiprows=1)\n",
    "count_spotlight_success=0\n",
    "for i,j in spot:\n",
    "    if (j=='successful'):\n",
    "        if (i=='TRUE'):\n",
    "            count_spotlight_success+=1\n",
    "spotlight_success_rate=(count_spotlight_success/count_spotlight)*100 #calculate spotlight success rate\n",
    "print(\"The percentage of spotlight projects that were successful are: \" +\"%.2f\" %(spotlight_success_rate) +\" %\") #print result"
   ]
  },
  {
   "cell_type": "markdown",
   "metadata": {},
   "source": [
    "# 10.Inference                                                                                                                   \n",
    "Projects identified by staff were successful only roughly 70% of the time.                                                \n",
    "However,Projects featured under Spotlight were all successful !                                                                \n",
    "Since Spotlight projects draw more attention, they attract more funding and hence have a higher chance of success.             \n",
    "Hence, an aspiring art entrepreneur should ensure that their projects get identified as spotlight, for successful funding."
   ]
  },
  {
   "cell_type": "markdown",
   "metadata": {},
   "source": [
    "# 11.Further Analysis with Insights \n",
    "# How USD Static rate affects success of a project\n",
    "# Load USD static rate and state data from our kickstarter dataset\n",
    "These are loaded seperately and zipped later on for performing calculations"
   ]
  },
  {
   "cell_type": "code",
   "execution_count": 16,
   "metadata": {},
   "outputs": [],
   "source": [
    "#Load our dataset with usd static rate with default data type float\n",
    "vivek_obs=np.loadtxt(\"C:/Users/vivek_000/Desktop/Python/HW4_kickstarter.csv\",delimiter=\",\",usecols=(10),skiprows=1)"
   ]
  },
  {
   "cell_type": "code",
   "execution_count": 17,
   "metadata": {},
   "outputs": [],
   "source": [
    "#Load our dataset with success data with data type string\n",
    "vivek_obs2=np.loadtxt(\"C:/Users/vivek_000/Desktop/Python/HW4_kickstarter.csv\",delimiter=\",\",dtype=str,usecols=(4),skiprows=1)"
   ]
  },
  {
   "cell_type": "markdown",
   "metadata": {},
   "source": [
    "# Calcuating the total no. of successful projects and the success rate based on USD static rate\n",
    "The USD static rate has been divided into 3 categories:                                                                        \n",
    "'<1' : eg: India, China                                                                                                        \n",
    "'>1' : eg: Great Britain                                                                                                       \n",
    "'=1' : USA                                                                                                          "
   ]
  },
  {
   "cell_type": "code",
   "execution_count": 18,
   "metadata": {},
   "outputs": [],
   "source": [
    "countlist2=[0,0,0] \n",
    "for p in vivek_obs:\n",
    "    if p<1:\n",
    "        countlist2[0]+=1 #calculating the total count based on usd static category\n",
    "    elif p>1:\n",
    "        countlist2[1]+=1\n",
    "    else:\n",
    "        countlist2[2]+=1"
   ]
  },
  {
   "cell_type": "code",
   "execution_count": 19,
   "metadata": {},
   "outputs": [],
   "source": [
    "countlist2_successful=[0,0,0]\n",
    "for p,o in zip(vivek_obs,vivek_obs2): \n",
    "    if o == 'successful':\n",
    "            if p<1:\n",
    "                countlist2_successful[0]+=1  #calculating the count for successful state projects\n",
    "            elif p>1:\n",
    "                countlist2_successful[1]+=1\n",
    "            else:\n",
    "                countlist2_successful[2]+=1"
   ]
  },
  {
   "cell_type": "code",
   "execution_count": 20,
   "metadata": {},
   "outputs": [],
   "source": [
    "newlist2 = [ (i/j)*100 for i,j in zip(countlist2_successful, countlist2)] #calculating the success rate"
   ]
  },
  {
   "cell_type": "code",
   "execution_count": 21,
   "metadata": {},
   "outputs": [
    {
     "data": {
      "image/png": "[encoded data removed]",
      "text/plain": [
       "<Figure size 432x288 with 1 Axes>"
      ]
     },
     "metadata": {},
     "output_type": "display_data"
    }
   ],
   "source": [
    "static=[\"<1\",\">1\",\"=1\"] #give a title\n",
    "title = f'Success frequencies based on Static USD rate : <1 , >1, =1'\n",
    "sns.set_style('whitegrid')\n",
    "axes=sns.barplot(x=static, y=newlist2, palette='Blues_d',saturation=1) #set x and y axis for barplot\n",
    "axes.set_title(title)\n",
    "axes.set(xlabel='Static USD rate', ylabel='Success rate') \n",
    "axes.set_ylim(top=max(newlist2)*1.15)\n",
    "\n",
    "for frequency,bar,percentage in zip(countlist2,axes.patches,newlist2):\n",
    "    text_x=bar.get_x()+bar.get_width()/2.0\n",
    "    text_y=bar.get_height()\n",
    "    text=f\"{frequency:}\\n{percentage/100:.2%}\" #displaying frequency and percentage on bars\n",
    "    axes.text(text_x,text_y,text,\n",
    "              fontsize=12,ha='center',va='bottom')\n",
    "                 \n",
    "plt.show() #display our plot"
   ]
  },
  {
   "cell_type": "markdown",
   "metadata": {},
   "source": [
    "# Inference based on USD static rate"
   ]
  },
  {
   "cell_type": "markdown",
   "metadata": {},
   "source": [
    "Out of all the projects based out of the USA (static usd rate = 1), close to 18% of all projects were the most successful in obtaining funding.\n",
    "In countries like Great Britain were the static USD rate is >1, the projects that were successful in obtaining funding was about 13%.\n",
    "In countries like India were the static USD rate is <1,  the projects that were successful was the lowest at just about 9%.\n",
    "Hence, the USD Static rate is also is a pivotal factor in the success of a project. Projects based out of USA have a higher chance of success."
   ]
  }
 ],
 "metadata": {
  "kernelspec": {
   "display_name": "Python 3",
   "language": "python",
   "name": "python3"
  },
  "language_info": {
   "codemirror_mode": {
    "name": "ipython",
    "version": 3
   },
   "file_extension": ".py",
   "mimetype": "text/x-python",
   "name": "python",
   "nbconvert_exporter": "python",
   "pygments_lexer": "ipython3",
   "version": "3.7.4"
  }
 },
 "nbformat": 4,
 "nbformat_minor": 2
}
